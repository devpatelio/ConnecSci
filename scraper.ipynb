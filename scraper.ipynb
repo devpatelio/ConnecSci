{
 "cells": [
  {
   "cell_type": "code",
   "execution_count": 1,
   "metadata": {},
   "outputs": [
    {
     "name": "stdout",
     "output_type": "stream",
     "text": [
      "Requirement already satisfied: ijson in /Users/anushmutyala/opt/anaconda3/lib/python3.9/site-packages (3.1.4)\n",
      "\u001b[33mWARNING: There was an error checking the latest version of pip.\u001b[0m\u001b[33m\n",
      "\u001b[0mNote: you may need to restart the kernel to use updated packages.\n"
     ]
    }
   ],
   "source": [
    "pip install ijson"
   ]
  },
  {
   "cell_type": "code",
   "execution_count": 1,
   "metadata": {},
   "outputs": [],
   "source": [
    "import json\n",
    "import pandas as pd\n",
    "import numpy as np\n",
    "import ijson\n",
    "\n"
   ]
  },
  {
   "cell_type": "code",
   "execution_count": 2,
   "metadata": {},
   "outputs": [
    {
     "name": "stdout",
     "output_type": "stream",
     "text": [
      "5\n",
      "['#*Automated Deduction in Geometry: 5th International Workshop, ADG 2004, Gainesville, FL, USA, September 16-18, 2004, Revised Papers (Lecture Notes in Computer ... / Lecture Notes in Artificial Intelligence)', '#@Hoon Hong,Dongming Wang', '#t2006', '#c', '#index0'] ['#*A+ Certification Core Hardware (Text & Lab Manual)', '#@Charles J. Brooks', '#t2003', '#c', '#index1']\n",
      "{'#* ': 'paper_title', '#@': 'authors', '#t': 'year', '#c': 'publication_value', '#index': 'index_id', '#%': 'id_ref', '#!': 'abstract'}\n"
     ]
    }
   ],
   "source": [
    "f = open('outputacm.txt')\n",
    "content = f.read()\n",
    "splitted = content.split('''\n",
    "\n",
    "''')\n",
    "\n",
    "f.close()\n",
    "\n",
    "for count, paper in enumerate(splitted):\n",
    "    splitted[count] = paper.splitlines()\n",
    "\n",
    "print(len(splitted[0]))\n",
    "\n",
    "print(splitted[0], splitted[1])\n",
    "\n",
    "respo_dict = dict(zip(['#* ', '#@', '#t', '#c', '#index', '#%', '#!'], ['paper_title', 'authors', 'year', 'publication_value', 'index_id', 'id_ref', 'abstract']))\n",
    "print(respo_dict)\n",
    "\n",
    "df = pd.DataFrame(columns=['paper_title', 'authors', 'year', 'publication_value', 'index_id', 'id_ref', 'abstract'])"
   ]
  },
  {
   "cell_type": "code",
   "execution_count": 3,
   "metadata": {},
   "outputs": [
    {
     "name": "stdout",
     "output_type": "stream",
     "text": [
      "{'#* ': 0, '#@': 1, '#t': 2, '#c': 3, '#index': 4, '#%': 5, '#!': 6}\n"
     ]
    }
   ],
   "source": [
    "empty = [None, None, None, None, None, None, None]\n",
    "dict_indices = dict(zip(list(respo_dict.keys()), list(x for x in range(len(list(respo_dict.keys()))))))\n",
    "print(dict_indices)\n",
    "# for category in splitlines:\n",
    "#     for idx, element in enumerate(category):\n",
    "#         if dict_indices[element[:2]] == idx:\n",
    "#             empty[idx] = respo_dict[element[:2]]\n",
    "#         else:\n",
    "#             pass\n",
    "dict_indices['#*'] = dict_indices.pop('#* ')\n",
    "dict_indices['#i'] = dict_indices.pop('#index')"
   ]
  },
  {
   "cell_type": "code",
   "execution_count": 13,
   "metadata": {},
   "outputs": [
    {
     "name": "stdout",
     "output_type": "stream",
     "text": [
      "{'#@': 1, '#t': 2, '#c': 3, '#%': 5, '#!': 6, '#*': 0, '#i': 4}\n",
      "[154762, 7]\n",
      "[230492, 6]\n",
      "[230492, 7]\n",
      "[230715, 6]\n",
      "[230715, 7]\n",
      "[230813, 6]\n",
      "[231210, 6]\n",
      "[231508, 6]\n",
      "[231736, 6]\n",
      "[231755, 6]\n",
      "[232891, 6]\n",
      "[233425, 6]\n",
      "[233530, 6]\n",
      "[234349, 6]\n",
      "[234410, 6]\n",
      "[235041, 6]\n",
      "[235263, 6]\n",
      "[235982, 6]\n",
      "[235982, 7]\n",
      "[236067, 6]\n",
      "[236136, 6]\n",
      "[236707, 6]\n",
      "[237317, 6]\n",
      "[237505, 6]\n",
      "[238253, 6]\n",
      "[238253, 7]\n",
      "[238650, 6]\n",
      "[239360, 6]\n",
      "[239360, 7]\n",
      "[240400, 6]\n",
      "[241797, 6]\n",
      "[241797, 7]\n",
      "[241909, 6]\n",
      "[242605, 6]\n",
      "[242973, 6]\n",
      "[243433, 6]\n",
      "[243656, 6]\n",
      "[243656, 7]\n",
      "[243925, 6]\n",
      "[243925, 7]\n",
      "[244769, 6]\n",
      "[246364, 6]\n",
      "[246377, 6]\n",
      "[246394, 6]\n",
      "[248561, 6]\n",
      "[248597, 6]\n",
      "[249775, 6]\n",
      "[250332, 6]\n",
      "[250332, 7]\n",
      "[250332, 8]\n",
      "[250824, 6]\n",
      "[251360, 6]\n",
      "[252069, 6]\n",
      "[252069, 7]\n",
      "[252186, 6]\n",
      "[252378, 6]\n",
      "[252508, 6]\n",
      "[252700, 6]\n",
      "[253335, 6]\n",
      "[253335, 7]\n",
      "[253335, 8]\n",
      "[253602, 6]\n",
      "[254302, 6]\n",
      "[254302, 7]\n",
      "[254485, 6]\n",
      "[345024, 6]\n",
      "[607796, 6]\n",
      "[607956, 6]\n",
      "[608779, 6]\n",
      "[608898, 6]\n",
      "[609002, 6]\n",
      "[609635, 6]\n",
      "[609635, 7]\n",
      "[609635, 8]\n",
      "[610081, 6]\n",
      "[610081, 7]\n",
      "[610081, 8]\n",
      "[610081, 9]\n",
      "[612260, 6]\n",
      "[612260, 7]\n",
      "[612483, 6]\n",
      "[612849, 6]\n",
      "[614919, 6]\n",
      "[614973, 6]\n",
      "[614973, 7]\n",
      "[616110, 6]\n",
      "[616737, 6]\n",
      "[617897, 6]\n",
      "[617897, 7]\n",
      "[618090, 6]\n",
      "[618090, 7]\n",
      "[618090, 8]\n",
      "[618090, 9]\n",
      "[618395, 6]\n",
      "[618395, 7]\n",
      "[618470, 6]\n",
      "[618603, 6]\n",
      "[618603, 7]\n",
      "[618790, 6]\n",
      "[619950, 6]\n",
      "[620219, 6]\n",
      "[620622, 6]\n",
      "[621317, 6]\n",
      "[621595, 6]\n",
      "[621595, 7]\n",
      "[621639, 6]\n",
      "[622382, 6]\n",
      "[623830, 6]\n",
      "[623886, 6]\n",
      "[624296, 6]\n",
      "[624417, 6]\n",
      "[624935, 6]\n",
      "[626226, 6]\n",
      "[626923, 6]\n",
      "[627017, 6]\n",
      "['#*Automated Deduction in Geometry: 5th International Workshop, ADG 2004, Gainesville, FL, USA, September 16-18, 2004, Revised Papers (Lecture Notes in Computer ... / Lecture Notes in Artificial Intelligence)', '#@Hoon Hong,Dongming Wang', '#t2006', '#c', '#index0', [], 0] out\n"
     ]
    }
   ],
   "source": [
    "\n",
    "print(dict_indices)\n",
    "# keys = list(respo_dict.keys())\n",
    "# print(keys)\n",
    "\n",
    "all_data = []\n",
    "for idx, paper in enumerate(splitted):\n",
    "    empty = [0]*7\n",
    "    references = []\n",
    "    for y, element in enumerate(paper):\n",
    "        try:\n",
    "            # print(element)\n",
    "            if element[:2] == '#%':\n",
    "                references.append(element)\n",
    "            else:\n",
    "                empty[dict_indices[element[:2]]] = element\n",
    "        except:\n",
    "            print([idx, y])\n",
    "    # print(references)\n",
    "    empty[5] = references\n",
    "    all_data.append(empty)\n",
    "    \n",
    "print(all_data[0], 'out')\n",
    "\n",
    "\n"
   ]
  },
  {
   "cell_type": "code",
   "execution_count": 7,
   "metadata": {},
   "outputs": [
    {
     "name": "stdout",
     "output_type": "stream",
     "text": [
      "629814\n",
      "['paper_title', 'authors', 'year', 'publication_value', 'index_id', 'id_ref', 'abstract']\n"
     ]
    }
   ],
   "source": [
    "# l = [x for x in range(6, df.shape[1])]\n",
    "# l\n",
    "\n",
    "print(len(all_data))\n",
    "print(list(respo_dict.values()))"
   ]
  },
  {
   "cell_type": "code",
   "execution_count": 15,
   "metadata": {},
   "outputs": [
    {
     "name": "stdout",
     "output_type": "stream",
     "text": [
      "(629814, 7)\n"
     ]
    },
    {
     "data": {
      "text/html": [
       "<div>\n",
       "<style scoped>\n",
       "    .dataframe tbody tr th:only-of-type {\n",
       "        vertical-align: middle;\n",
       "    }\n",
       "\n",
       "    .dataframe tbody tr th {\n",
       "        vertical-align: top;\n",
       "    }\n",
       "\n",
       "    .dataframe thead th {\n",
       "        text-align: right;\n",
       "    }\n",
       "</style>\n",
       "<table border=\"1\" class=\"dataframe\">\n",
       "  <thead>\n",
       "    <tr style=\"text-align: right;\">\n",
       "      <th></th>\n",
       "      <th>paper_title</th>\n",
       "      <th>authors</th>\n",
       "      <th>year</th>\n",
       "      <th>publication_value</th>\n",
       "      <th>index_id</th>\n",
       "      <th>id_ref</th>\n",
       "      <th>abstract</th>\n",
       "    </tr>\n",
       "  </thead>\n",
       "  <tbody>\n",
       "    <tr>\n",
       "      <th>629809</th>\n",
       "      <td>#*Mining A</td>\n",
       "      <td>#@</td>\n",
       "      <td>#t2008</td>\n",
       "      <td>#cProceedings of the VLDB Endowment</td>\n",
       "      <td>#index629809</td>\n",
       "      <td>[]</td>\n",
       "      <td>0</td>\n",
       "    </tr>\n",
       "    <tr>\n",
       "      <th>629810</th>\n",
       "      <td>#*Review article</td>\n",
       "      <td>#@</td>\n",
       "      <td>#t2008</td>\n",
       "      <td>#cCommunications of the ACM</td>\n",
       "      <td>#index629810</td>\n",
       "      <td>[]</td>\n",
       "      <td>0</td>\n",
       "    </tr>\n",
       "    <tr>\n",
       "      <th>629811</th>\n",
       "      <td>#*Multimodal system evaluation using modality ...</td>\n",
       "      <td>#@Manolis Perakakis,Alexandros Potamianos</td>\n",
       "      <td>#t2008</td>\n",
       "      <td>#cProceedings of the 10th international confer...</td>\n",
       "      <td>#index629811</td>\n",
       "      <td>[#%294663, #%302639, #%572828]</td>\n",
       "      <td>#!In this paper, we propose two new objective ...</td>\n",
       "    </tr>\n",
       "    <tr>\n",
       "      <th>629812</th>\n",
       "      <td>#*Computer System Architecture</td>\n",
       "      <td>#@V. K. Jain</td>\n",
       "      <td>#t2007</td>\n",
       "      <td>#c</td>\n",
       "      <td>#index629812</td>\n",
       "      <td>[]</td>\n",
       "      <td>0</td>\n",
       "    </tr>\n",
       "    <tr>\n",
       "      <th>629813</th>\n",
       "      <td>#*Oppositional target domain estimation using ...</td>\n",
       "      <td>#@Maryam Shokri,Hamid R. Tizhoosh,Mohamed S. K...</td>\n",
       "      <td>#t2009</td>\n",
       "      <td>#cApplied Soft Computing</td>\n",
       "      <td>#index629813</td>\n",
       "      <td>[]</td>\n",
       "      <td>#!In this paper we address the problem of esti...</td>\n",
       "    </tr>\n",
       "  </tbody>\n",
       "</table>\n",
       "</div>"
      ],
      "text/plain": [
       "                                              paper_title  \\\n",
       "629809                                         #*Mining A   \n",
       "629810                                   #*Review article   \n",
       "629811  #*Multimodal system evaluation using modality ...   \n",
       "629812                     #*Computer System Architecture   \n",
       "629813  #*Oppositional target domain estimation using ...   \n",
       "\n",
       "                                                  authors    year  \\\n",
       "629809                                                 #@  #t2008   \n",
       "629810                                                 #@  #t2008   \n",
       "629811          #@Manolis Perakakis,Alexandros Potamianos  #t2008   \n",
       "629812                                       #@V. K. Jain  #t2007   \n",
       "629813  #@Maryam Shokri,Hamid R. Tizhoosh,Mohamed S. K...  #t2009   \n",
       "\n",
       "                                        publication_value      index_id  \\\n",
       "629809                #cProceedings of the VLDB Endowment  #index629809   \n",
       "629810                        #cCommunications of the ACM  #index629810   \n",
       "629811  #cProceedings of the 10th international confer...  #index629811   \n",
       "629812                                                 #c  #index629812   \n",
       "629813                           #cApplied Soft Computing  #index629813   \n",
       "\n",
       "                                id_ref  \\\n",
       "629809                              []   \n",
       "629810                              []   \n",
       "629811  [#%294663, #%302639, #%572828]   \n",
       "629812                              []   \n",
       "629813                              []   \n",
       "\n",
       "                                                 abstract  \n",
       "629809                                                  0  \n",
       "629810                                                  0  \n",
       "629811  #!In this paper, we propose two new objective ...  \n",
       "629812                                                  0  \n",
       "629813  #!In this paper we address the problem of esti...  "
      ]
     },
     "execution_count": 15,
     "metadata": {},
     "output_type": "execute_result"
    }
   ],
   "source": [
    "df = pd.DataFrame(all_data, columns=list(respo_dict.values()))\n",
    "\n",
    "# df.dropna(axis=1)\n",
    "\n",
    "print(df.shape)\n",
    "df.tail()"
   ]
  },
  {
   "cell_type": "code",
   "execution_count": null,
   "metadata": {},
   "outputs": [],
   "source": [
    "a = df['id_ref'].value_counts()\n",
    "a\n"
   ]
  },
  {
   "cell_type": "code",
   "execution_count": null,
   "metadata": {},
   "outputs": [],
   "source": []
  }
 ],
 "metadata": {
  "kernelspec": {
   "display_name": "Python 3.9.7 ('base')",
   "language": "python",
   "name": "python3"
  },
  "language_info": {
   "codemirror_mode": {
    "name": "ipython",
    "version": 3
   },
   "file_extension": ".py",
   "mimetype": "text/x-python",
   "name": "python",
   "nbconvert_exporter": "python",
   "pygments_lexer": "ipython3",
   "version": "3.9.7"
  },
  "orig_nbformat": 4,
  "vscode": {
   "interpreter": {
    "hash": "7dd294ec95a772b6a9e8db1349a3b8a81035174cb02bead413dd7f825403e420"
   }
  }
 },
 "nbformat": 4,
 "nbformat_minor": 2
}
